{
 "cells": [
  {
   "cell_type": "code",
   "execution_count": null,
   "metadata": {},
   "outputs": [],
   "source": [
    "#importer les ressources\n",
    "\n",
    "from gensim import corpora\n",
    "import gensim\n",
    "from nltk.tokenize import word_tokenize\n",
    "from nltk.corpus import stopwords\n",
    "import nltk\n",
    "import string\n",
    "import requests\n",
    "\n",
    "nltk.download('punkt')\n",
    "nltk.download('stopwords')\n",
    "\n",
    "#établir les stopwords\n",
    "\n",
    "stop_words = stopwords.words('french')\n",
    "stop_words.extend(['»', '«', '’', 'L', 'a'])\n",
    "\n",
    "# url du fichier cicle\n",
    "url = 'https://raw.githubusercontent.com/JerGag/topic_modelling_demo/main/test_express_single.csv'\n",
    "\n",
    "# Get request\n",
    "response = requests.get(url)\n",
    "response.raise_for_status()  # en cas d'échec\n",
    "\n",
    "documents = [response.text]\n",
    "\n",
    "\n",
    "#data preprocessing\n",
    "punctuation = set(string.punctuation)\n",
    "\n",
    "\n",
    "\n",
    "\n",
    "texts = [\n",
    "    [word for word in word_tokenize(document.lower()) if word not in stop_words and word not in punctuation]\n",
    "    for document in documents\n",
    "]\n",
    "\n",
    "\n",
    "\n",
    "dictionary = corpora.Dictionary(texts)\n",
    "corpus = [dictionary.doc2bow(text) for text in texts]\n"
   ]
  },
  {
   "cell_type": "code",
   "execution_count": null,
   "metadata": {},
   "outputs": [],
   "source": [
    "#LDA\n",
    "\n",
    "from gensim.models.ldamodel import LdaModel\n",
    "\n",
    "lda = LdaModel(corpus, num_topics=2, id2word=dictionary, passes=15, random_state=1)\n",
    "topics = lda.print_topics(num_words=10)\n",
    "for topic in topics:\n",
    "    print(topic)"
   ]
  },
  {
   "cell_type": "code",
   "execution_count": null,
   "metadata": {},
   "outputs": [],
   "source": []
  }
 ],
 "metadata": {
  "kernelspec": {
   "display_name": "Python 3",
   "language": "python",
   "name": "python3"
  },
  "language_info": {
   "codemirror_mode": {
    "name": "ipython",
    "version": 3
   },
   "file_extension": ".py",
   "mimetype": "text/x-python",
   "name": "python",
   "nbconvert_exporter": "python",
   "pygments_lexer": "ipython3",
   "version": "3.11.8"
  }
 },
 "nbformat": 4,
 "nbformat_minor": 2
}
