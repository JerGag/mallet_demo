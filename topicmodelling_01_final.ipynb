{
 "cells": [
  {
   "cell_type": "code",
   "execution_count": 38,
   "metadata": {},
   "outputs": [
    {
     "name": "stderr",
     "output_type": "stream",
     "text": [
      "[nltk_data] Downloading package punkt to\n",
      "[nltk_data]     C:\\Users\\jerem\\AppData\\Roaming\\nltk_data...\n",
      "[nltk_data]   Package punkt is already up-to-date!\n",
      "[nltk_data] Downloading package stopwords to\n",
      "[nltk_data]     C:\\Users\\jerem\\AppData\\Roaming\\nltk_data...\n",
      "[nltk_data]   Package stopwords is already up-to-date!\n"
     ]
    }
   ],
   "source": [
    "from gensim import corpora\n",
    "from nltk.tokenize import word_tokenize\n",
    "from nltk.corpus import stopwords\n",
    "import nltk\n",
    "import string\n",
    "import requests  # Import the requests library\n",
    "\n",
    "nltk.download('punkt')\n",
    "nltk.download('stopwords')\n",
    "\n",
    "stop_words = stopwords.words('french')\n",
    "stop_words.extend(['»', '«', '’', 'a'])\n",
    "\n",
    "# URL of the file you want to fetch\n",
    "url = 'https://raw.githubusercontent.com/JerGag/mallet_demo/main/express_article.txt'\n",
    "\n",
    "# Make a GET request to fetch the raw content of the text file\n",
    "response = requests.get(url)\n",
    "response.raise_for_status()  # Raises an HTTPError if the HTTP request returned an unsuccessful status code\n",
    "\n",
    "# Assuming the file is encoded in 'utf-8'\n",
    "documents = [response.text]\n",
    "\n",
    "punctuation = set(string.punctuation)\n",
    "texts = [\n",
    "    [word for word in word_tokenize(document) if word not in stop_words and word not in punctuation]\n",
    "    for document in documents\n",
    "]\n",
    "\n",
    "dictionary = corpora.Dictionary(texts)\n",
    "corpus = [dictionary.doc2bow(text) for text in texts]\n"
   ]
  },
  {
   "cell_type": "code",
   "execution_count": 40,
   "metadata": {},
   "outputs": [
    {
     "name": "stdout",
     "output_type": "stream",
     "text": [
      "(0, '0.020*\"enfants\" + 0.013*\"française\" + 0.011*\"métavers\" + 0.011*\"AFT\" + 0.010*\"Alliance\" + 0.010*\"élèves\" + 0.010*\"nouvelles\" + 0.010*\"équipe\" + 0.010*\"Toronto\" + 0.010*\"Plantiveau\"')\n",
      "(1, '0.003*\"enfants\" + 0.003*\"française\" + 0.003*\"AFT\" + 0.003*\"métavers\" + 0.003*\"activités\" + 0.003*\"Christophe\" + 0.003*\"Plantiveau\" + 0.003*\"Toronto\" + 0.003*\"équipe\" + 0.003*\"nouvelles\"')\n"
     ]
    }
   ],
   "source": [
    "from gensim.models.ldamodel import LdaModel\n",
    "\n",
    "lda = LdaModel(corpus, num_topics=2, id2word=dictionary, passes=15)\n",
    "topics = lda.print_topics(num_words=10)\n",
    "for topic in topics:\n",
    "    print(topic)"
   ]
  },
  {
   "cell_type": "code",
   "execution_count": null,
   "metadata": {},
   "outputs": [],
   "source": []
  }
 ],
 "metadata": {
  "kernelspec": {
   "display_name": "Python 3",
   "language": "python",
   "name": "python3"
  },
  "language_info": {
   "codemirror_mode": {
    "name": "ipython",
    "version": 3
   },
   "file_extension": ".py",
   "mimetype": "text/x-python",
   "name": "python",
   "nbconvert_exporter": "python",
   "pygments_lexer": "ipython3",
   "version": "3.11.8"
  }
 },
 "nbformat": 4,
 "nbformat_minor": 2
}
